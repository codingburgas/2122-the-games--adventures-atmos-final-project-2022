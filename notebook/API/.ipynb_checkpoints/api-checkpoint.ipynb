{
 "cells": [
  {
   "cell_type": "markdown",
   "id": "9b81c3ef",
   "metadata": {},
   "source": [
    "# Index.css\n",
    "---------------------------------------\n",
    "## Agenda:\n",
    " - Here we have described how our custom DB API works."
   ]
  },
  {
   "cell_type": "markdown",
   "id": "769d86b9",
   "metadata": {},
   "source": [
    "<img src=\"https://media.discordapp.net/attachments/889147604456316928/990298341067878420/unknown.png\">"
   ]
  },
  {
   "cell_type": "markdown",
   "id": "412ae301",
   "metadata": {},
   "source": [
    "> # Initialisation\n",
    "> Initialize the required NodeJS modules.\n"
   ]
  },
  {
   "cell_type": "markdown",
   "id": "3418b22f",
   "metadata": {},
   "source": [
    "------------------"
   ]
  },
  {
   "cell_type": "markdown",
   "id": "6a8c31b5",
   "metadata": {},
   "source": [
    "## Synopsis:\n",
    " - Set up the session's settings."
   ]
  },
  {
   "cell_type": "markdown",
   "id": "5e5f4842",
   "metadata": {},
   "source": [
    "<img src=\"https://media.discordapp.net/attachments/889147604456316928/990298402455707758/unknown.png\">"
   ]
  },
  {
   "cell_type": "markdown",
   "id": "8f4146f9",
   "metadata": {},
   "source": [
    "> # Session settings\n",
    "> Configure the express-session settings.\n"
   ]
  },
  {
   "cell_type": "markdown",
   "id": "ce865257",
   "metadata": {},
   "source": [
    "-------------"
   ]
  },
  {
   "cell_type": "markdown",
   "id": "bd6eefab",
   "metadata": {},
   "source": [
    "## Synopsis:\n",
    " - Registering a user in the DB."
   ]
  },
  {
   "cell_type": "markdown",
   "id": "12334dd3",
   "metadata": {},
   "source": [
    "<img src=\"https://media.discordapp.net/attachments/889147604456316928/990298469879152660/unknown.png?width=921&height=902\">"
   ]
  },
  {
   "cell_type": "markdown",
   "id": "bdf39355",
   "metadata": {},
   "source": [
    "> # User registration endpoint\n",
    "> API endpoint for registering users in the DB. \n"
   ]
  },
  {
   "cell_type": "markdown",
   "id": "9d1582bd",
   "metadata": {},
   "source": [
    "------------------------"
   ]
  },
  {
   "cell_type": "markdown",
   "id": "1a9b120e",
   "metadata": {},
   "source": [
    "## Synopsis:\n",
    " - Logging in as a user in the DB."
   ]
  },
  {
   "cell_type": "markdown",
   "id": "97cd1745",
   "metadata": {},
   "source": [
    "<img src=\"https://media.discordapp.net/attachments/889147604456316928/990298651622531132/unknown.png?width=1173&height=904\">"
   ]
  },
  {
   "cell_type": "markdown",
   "id": "3d735958",
   "metadata": {},
   "source": [
    "> # Login endpoint\n",
    "> API endpoint for logging in users.\n"
   ]
  },
  {
   "cell_type": "markdown",
   "id": "ea256a4b",
   "metadata": {},
   "source": [
    "------------------------"
   ]
  },
  {
   "cell_type": "markdown",
   "id": "17b2078b",
   "metadata": {},
   "source": [
    "## Synopsis:\n",
    " - Logging out as a user in the DB."
   ]
  },
  {
   "cell_type": "markdown",
   "id": "459edf45",
   "metadata": {},
   "source": [
    "<img src=\"https://media.discordapp.net/attachments/889147604456316928/990298702818213888/unknown.png\">"
   ]
  },
  {
   "cell_type": "markdown",
   "id": "b6598288",
   "metadata": {},
   "source": [
    "> # Logout endpoint\n",
    "> API endpoint for destroying the current session and logging users out.\n"
   ]
  },
  {
   "cell_type": "markdown",
   "id": "5b2ceb83",
   "metadata": {},
   "source": [
    "------------------------"
   ]
  },
  {
   "cell_type": "markdown",
   "id": "622bf347",
   "metadata": {},
   "source": [
    "## Synopsis:\n",
    " - Method for acquiring the user's endpoint."
   ]
  },
  {
   "cell_type": "markdown",
   "id": "41a37d54",
   "metadata": {},
   "source": [
    "<img src=\"https://media.discordapp.net/attachments/889147604456316928/990299411953369139/unknown.png?width=1216&height=903\">"
   ]
  },
  {
   "cell_type": "markdown",
   "id": "d8f64232",
   "metadata": {},
   "source": [
    "> # Get user endpoint\n",
    "> API endpoint for fetching information for the currently logged in user. \n"
   ]
  },
  {
   "cell_type": "markdown",
   "id": "235edd3f",
   "metadata": {},
   "source": [
    "------------------------"
   ]
  },
  {
   "cell_type": "markdown",
   "id": "3c455bfb",
   "metadata": {},
   "source": [
    "## Synopsis:\n",
    " - Global acquiring of the user endpoints."
   ]
  },
  {
   "cell_type": "markdown",
   "id": "1e810f78",
   "metadata": {},
   "source": [
    "<img src=\"https://media.discordapp.net/attachments/889147604456316928/990299663842279464/unknown.png?width=964&height=903\">"
   ]
  },
  {
   "cell_type": "markdown",
   "id": "9fec1d9a",
   "metadata": {},
   "source": [
    "> # Get all users endpoint\n",
    "> API endpoint for fetching information for all the users registered on the DB (Requires admin privileges). \n"
   ]
  },
  {
   "cell_type": "markdown",
   "id": "be07b0d2",
   "metadata": {},
   "source": [
    "------------------------"
   ]
  },
  {
   "cell_type": "markdown",
   "id": "d8deadb0",
   "metadata": {},
   "source": [
    "## Synopsis:\n",
    " - Method for changing a user's username."
   ]
  },
  {
   "cell_type": "markdown",
   "id": "d876603d",
   "metadata": {},
   "source": [
    "<img src=\"https://media.discordapp.net/attachments/889147604456316928/990300116533522542/unknown.png?width=1222&height=903\">"
   ]
  },
  {
   "cell_type": "markdown",
   "id": "351d8bb2",
   "metadata": {},
   "source": [
    "> # Change username endpoint\n",
    "> API endpoint for changing the username of the current logged in user.\n"
   ]
  },
  {
   "cell_type": "markdown",
   "id": "175ea77b",
   "metadata": {},
   "source": [
    "------------------------"
   ]
  },
  {
   "cell_type": "markdown",
   "id": "1e624876",
   "metadata": {},
   "source": [
    "## Synopsis:\n",
    " - Method to delete a user from the DB."
   ]
  },
  {
   "cell_type": "markdown",
   "id": "1d8cb35e",
   "metadata": {},
   "source": [
    "<img src=\"https://media.discordapp.net/attachments/889147604456316928/990300410902364160/unknown.png?width=888&height=904\">"
   ]
  },
  {
   "cell_type": "markdown",
   "id": "78c0b973",
   "metadata": {},
   "source": [
    "> # Delete user endpoint\n",
    "> API endpoint for deleting the user's account\n"
   ]
  },
  {
   "cell_type": "markdown",
   "id": "cdc50f53",
   "metadata": {},
   "source": [
    "------------------------"
   ]
  },
  {
   "cell_type": "markdown",
   "id": "e6c8bd3a",
   "metadata": {},
   "source": [
    "## Synopsis:\n",
    " - Method to delete a user via UUID, only if the admin role is present."
   ]
  },
  {
   "cell_type": "markdown",
   "id": "68a868d9",
   "metadata": {},
   "source": [
    "<img src=\"https://media.discordapp.net/attachments/889147604456316928/990300683309813840/unknown.png?width=980&height=903\">"
   ]
  },
  {
   "cell_type": "markdown",
   "id": "a1f7c653",
   "metadata": {},
   "source": [
    "> # Delete user by UUID endpoint\n",
    "> API endpoint for deleting a user's account by their UUID (Requires admin privileges).\n"
   ]
  },
  {
   "cell_type": "markdown",
   "id": "a71745fe",
   "metadata": {},
   "source": [
    "------------------------"
   ]
  },
  {
   "cell_type": "markdown",
   "id": "379ed101",
   "metadata": {},
   "source": [
    "## Synopsis:\n",
    " - Method for changing a user's password via UUID, only if the admin role is present."
   ]
  },
  {
   "cell_type": "markdown",
   "id": "140124e5",
   "metadata": {},
   "source": [
    "<img src=\"https://media.discordapp.net/attachments/889147604456316928/990301160348983377/unknown.png?width=1345&height=903\">"
   ]
  },
  {
   "cell_type": "markdown",
   "id": "ad74ddc9",
   "metadata": {},
   "source": [
    "> # Change password endpoint\n",
    "> API endpoint for promoting user's privileges by their UUID (Requires admin privileges).\n"
   ]
  },
  {
   "cell_type": "markdown",
   "id": "73ac6550",
   "metadata": {},
   "source": [
    "------------------------"
   ]
  },
  {
   "cell_type": "markdown",
   "id": "3ea37aad",
   "metadata": {},
   "source": [
    "## Synopsis:\n",
    " - Method for changing the user's profile picture."
   ]
  },
  {
   "cell_type": "markdown",
   "id": "1baa14b2",
   "metadata": {},
   "source": [
    "<img src=\"https://media.discordapp.net/attachments/889147604456316928/990301358131413002/unknown.png?width=1136&height=903\">"
   ]
  },
  {
   "cell_type": "markdown",
   "id": "2f2c8d23",
   "metadata": {},
   "source": [
    "> # Change image endpoint\n",
    "> API endpoint for changing the user's current password.\n"
   ]
  },
  {
   "cell_type": "markdown",
   "id": "49bbe416",
   "metadata": {},
   "source": [
    "------------------------"
   ]
  },
  {
   "cell_type": "markdown",
   "id": "f2f003db",
   "metadata": {},
   "source": [
    "## Synopsis:\n",
    " - Method for changing the user's profile picture."
   ]
  },
  {
   "cell_type": "markdown",
   "id": "62a8dd16",
   "metadata": {},
   "source": [
    "<img src=\"https://media.discordapp.net/attachments/889147604456316928/990301472203878500/unknown.png\">"
   ]
  },
  {
   "cell_type": "markdown",
   "id": "ee01de06",
   "metadata": {},
   "source": [
    "> # Get image endpoint\n",
    "> API endpoint for changing the user's profile image.\n"
   ]
  },
  {
   "cell_type": "markdown",
   "id": "b1348e75",
   "metadata": {},
   "source": [
    "------------------------"
   ]
  },
  {
   "cell_type": "markdown",
   "id": "573786f7",
   "metadata": {},
   "source": [
    "## Synopsis:\n",
    " - Method for changing the user's banner."
   ]
  },
  {
   "cell_type": "markdown",
   "id": "2da57000",
   "metadata": {},
   "source": [
    "<img src=\"https://media.discordapp.net/attachments/889147604456316928/990301693403090944/unknown.png\">"
   ]
  },
  {
   "cell_type": "markdown",
   "id": "78b0ad39",
   "metadata": {},
   "source": [
    "> # Get banner endpoint\n",
    "> API endpoint for getting the current user's profile banner."
   ]
  },
  {
   "cell_type": "markdown",
   "id": "0d7b7728",
   "metadata": {},
   "source": [
    "------------------------"
   ]
  },
  {
   "cell_type": "markdown",
   "id": "71c72d70",
   "metadata": {},
   "source": [
    "## Synopsis:\n",
    " - Method for sending a password reset to the user's email."
   ]
  },
  {
   "cell_type": "markdown",
   "id": "abf5ec5c",
   "metadata": {},
   "source": [
    "<img src=\"https://media.discordapp.net/attachments/889147604456316928/990301943589117992/unknown.png\">"
   ]
  },
  {
   "cell_type": "markdown",
   "id": "289c84b9",
   "metadata": {},
   "source": [
    "> # Send forgot password email endpoint\n",
    "> API endpoint for sending a password reset email to the user."
   ]
  },
  {
   "cell_type": "markdown",
   "id": "c99a8599",
   "metadata": {},
   "source": [
    "------------------------"
   ]
  },
  {
   "cell_type": "markdown",
   "id": "4fbe1f3b",
   "metadata": {},
   "source": [
    "## Synopsis:\n",
    " - Method for sending a verification email to the user's email address."
   ]
  },
  {
   "cell_type": "markdown",
   "id": "e86ad8bf",
   "metadata": {},
   "source": [
    "<img src=\"https://media.discordapp.net/attachments/889147604456316928/990302054633320448/unknown.png?width=1372&height=904\">"
   ]
  },
  {
   "cell_type": "markdown",
   "id": "361946b8",
   "metadata": {},
   "source": [
    "> # Send confirmation email endpoint\n",
    "> API endpoint for sending a confirmation email to the user.\n"
   ]
  },
  {
   "cell_type": "markdown",
   "id": "b77ca3e2",
   "metadata": {},
   "source": [
    "------------------------"
   ]
  },
  {
   "cell_type": "markdown",
   "id": "ff4fb8fa",
   "metadata": {},
   "source": [
    "## Synopsis:\n",
    " - Method for confirimg the email endpoint."
   ]
  },
  {
   "cell_type": "markdown",
   "id": "ce276a71",
   "metadata": {},
   "source": [
    "<img src=\"https://media.discordapp.net/attachments/889147604456316928/990302312813715537/unknown.png?width=1353&height=904\">"
   ]
  },
  {
   "cell_type": "markdown",
   "id": "cde66084",
   "metadata": {},
   "source": [
    "> # Confirm email endpoint\n",
    "> API email for confirming the user's email address using the previously generated token.\n"
   ]
  },
  {
   "cell_type": "markdown",
   "id": "bb06d5f8",
   "metadata": {},
   "source": [
    "------------------------"
   ]
  }
 ],
 "metadata": {
  "kernelspec": {
   "display_name": "JavaScript (Node.js)",
   "language": "javascript",
   "name": "javascript"
  },
  "language_info": {
   "file_extension": ".js",
   "mimetype": "application/javascript",
   "name": "javascript",
   "version": "14.17.1"
  }
 },
 "nbformat": 4,
 "nbformat_minor": 5
}
