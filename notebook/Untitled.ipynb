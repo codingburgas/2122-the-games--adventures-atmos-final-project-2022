{
 "cells": [
  {
   "cell_type": "markdown",
   "id": "cb011fe6",
   "metadata": {},
   "source": [
    "# This is a heading"
   ]
  },
  {
   "cell_type": "code",
   "execution_count": 1,
   "id": "4ac25e8e",
   "metadata": {},
   "outputs": [
    {
     "name": "stdout",
     "output_type": "stream",
     "text": [
      "hello world!\n"
     ]
    }
   ],
   "source": [
    "console.log(\"hello world!\")"
   ]
  },
  {
   "cell_type": "markdown",
   "id": "3d1b62cb",
   "metadata": {},
   "source": [
    "<img src=\"https://media.discordapp.net/attachments/884052584762077245/990293654319009812/code.png\">"
   ]
  },
  {
   "cell_type": "code",
   "execution_count": null,
   "id": "1f5031a1",
   "metadata": {},
   "outputs": [],
   "source": []
  }
 ],
 "metadata": {
  "kernelspec": {
   "display_name": "JavaScript (Node.js)",
   "language": "javascript",
   "name": "javascript"
  },
  "language_info": {
   "file_extension": ".js",
   "mimetype": "application/javascript",
   "name": "javascript",
   "version": "14.17.1"
  }
 },
 "nbformat": 4,
 "nbformat_minor": 5
}
