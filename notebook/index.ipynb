{
 "cells": [
  {
   "cell_type": "markdown",
   "id": "a03e6b49",
   "metadata": {},
   "source": [
    "<h1><u>Heading</u></h1>"
   ]
  },
  {
   "cell_type": "markdown",
   "id": "70cc72fe",
   "metadata": {},
   "source": [
    "## Agenda:"
   ]
  },
  {
   "cell_type": "markdown",
   "id": "d95bee4a",
   "metadata": {},
   "source": [
    "This is just your average description."
   ]
  },
  {
   "cell_type": "markdown",
   "id": "f55dd297",
   "metadata": {},
   "source": [
    "<img style=\"width:600px;\" src=\"https://cdn.discordapp.com/attachments/889147604456316928/990296731306569838/unknown.png\">"
   ]
  },
  {
   "cell_type": "markdown",
   "id": "f819ba2e",
   "metadata": {},
   "source": [
    "> # Hello!\n",
    "> This is some sample code.\\\n",
    "> This is some sample code.\n",
    "> This is some sample code.\n",
    "> This is some sample code.\\\n",
    ">\n",
    "> `console.log(\"hello world\")`"
   ]
  },
  {
   "cell_type": "code",
   "execution_count": 5,
   "id": "b08b389e",
   "metadata": {},
   "outputs": [
    {
     "name": "stdout",
     "output_type": "stream",
     "text": [
      "hello world\n"
     ]
    }
   ],
   "source": [
    "console.log(\"hello world\")"
   ]
  },
  {
   "cell_type": "code",
   "execution_count": null,
   "id": "3e0ece67",
   "metadata": {},
   "outputs": [],
   "source": []
  }
 ],
 "metadata": {
  "kernelspec": {
   "display_name": "JavaScript (Node.js)",
   "language": "javascript",
   "name": "javascript"
  },
  "language_info": {
   "file_extension": ".js",
   "mimetype": "application/javascript",
   "name": "javascript",
   "version": "14.17.1"
  }
 },
 "nbformat": 4,
 "nbformat_minor": 5
}
