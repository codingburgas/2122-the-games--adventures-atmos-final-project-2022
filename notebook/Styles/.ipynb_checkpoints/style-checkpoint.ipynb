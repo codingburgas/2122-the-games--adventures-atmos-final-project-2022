{
 "cells": [
  {
   "cell_type": "markdown",
   "id": "6a2f9095",
   "metadata": {},
   "source": [
    "# Index.css\n",
    "---------------------------------------\n",
    "### Agenda:\n",
    " - Even though we have styling through Tailwind CSS for our React app, some basic vanilla CSS is needed."
   ]
  },
  {
   "cell_type": "markdown",
   "id": "537ebfb4",
   "metadata": {},
   "source": [
    "<img src=\"https://media.discordapp.net/attachments/884052584762077245/990560719659483136/unknown.png\">"
   ]
  },
  {
   "cell_type": "markdown",
   "id": "0ef3c7eb",
   "metadata": {},
   "source": [
    "> # Initialisation\n",
    "> Tailwind gets initialised through some CSS commands, as well as the `tailwind.config.js` file. \\\n",
    "> To accomplish said task, we are using some CSS rulesets, such as the ones in the sample ."
   ]
  },
  {
   "cell_type": "markdown",
   "id": "4d4d91aa",
   "metadata": {},
   "source": [
    "<hr></hr>"
   ]
  },
  {
   "cell_type": "markdown",
   "id": "6322b818",
   "metadata": {},
   "source": [
    "### Synopsis:\n",
    " - Even though we have styling through Tailwind CSS for our React app, some basic vanilla CSS is needed."
   ]
  },
  {
   "cell_type": "markdown",
   "id": "e18e9f1d",
   "metadata": {},
   "source": [
    "<img src=\"https://media.discordapp.net/attachments/884052584762077245/990560825616003122/unknown.png\">"
   ]
  },
  {
   "cell_type": "markdown",
   "id": "8fb702d9",
   "metadata": {},
   "source": [
    "> # Margin reset & size settings\n",
    "> The entire React app acts as a canvas for our webpage. It needs to fill in the entire page's viewport height. \\\n",
    "> The margins also need to be reset - this is a standard."
   ]
  },
  {
   "cell_type": "markdown",
   "id": "b08d4422",
   "metadata": {},
   "source": [
    "---------------------------------------"
   ]
  },
  {
   "cell_type": "markdown",
   "id": "09ef2725",
   "metadata": {},
   "source": [
    "### Synopsis:\n",
    " - Initialisation of font faces."
   ]
  },
  {
   "cell_type": "markdown",
   "id": "ceaabe6a",
   "metadata": {},
   "source": [
    "<img src=\"https://media.discordapp.net/attachments/884052584762077245/990560936693739580/unknown.png\">"
   ]
  },
  {
   "cell_type": "markdown",
   "id": "bf7dd312",
   "metadata": {},
   "source": [
    "> # Font Faces\n",
    "> In our **Figma** design, we've used some external fonts, that have also been included in the repo in the `assets/fonts` folder. \\\n",
    "> To use said fonts in our webpage, we've written a few lines of CSS to define font faces."
   ]
  },
  {
   "cell_type": "markdown",
   "id": "1c556aad",
   "metadata": {},
   "source": [
    "<hr></hr>"
   ]
  },
  {
   "cell_type": "code",
   "execution_count": null,
   "id": "96b44ade",
   "metadata": {},
   "outputs": [],
   "source": []
  }
 ],
 "metadata": {
  "kernelspec": {
   "display_name": "JavaScript (Node.js)",
   "language": "javascript",
   "name": "javascript"
  },
  "language_info": {
   "file_extension": ".js",
   "mimetype": "application/javascript",
   "name": "javascript",
   "version": "14.17.1"
  }
 },
 "nbformat": 4,
 "nbformat_minor": 5
}
