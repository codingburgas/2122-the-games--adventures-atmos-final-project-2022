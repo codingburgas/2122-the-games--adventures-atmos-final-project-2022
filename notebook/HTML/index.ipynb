{
 "cells": [
  {
   "cell_type": "markdown",
   "id": "71d083c7",
   "metadata": {},
   "source": [
    "# Index.html\n",
    "---------------------------------------\n",
    "### Agenda:\n",
    " - A basic HTML page is needed, even though our main app is React-based."
   ]
  },
  {
   "cell_type": "markdown",
   "id": "c0e283e5",
   "metadata": {},
   "source": [
    "<img src=\"https://media.discordapp.net/attachments/884052584762077245/990298377356988436/unknown.png?width=1921&height=824\" >"
   ]
  },
  {
   "cell_type": "markdown",
   "id": "fabf7b44",
   "metadata": {},
   "source": [
    "> # Linkage & Meta tags\n",
    "> We have linked various fonts via [Google Fonts](https://fonts.google.com/), that are used throught the entire website. \\\n",
    "> One of these links (*on line `2`*) is used to add an icon to the page's browser tab. \\\n",
    "> Last but not least, we've used meta tags to ensure **UTF-8 characters**, as well as **improved responsiveness**."
   ]
  },
  {
   "cell_type": "markdown",
   "id": "665b7501",
   "metadata": {},
   "source": [
    "-------------------"
   ]
  },
  {
   "cell_type": "markdown",
   "id": "975f3ce6",
   "metadata": {},
   "source": [
    "### Synopsis:\n",
    " - Even though we have styling through Tailwind CSS for our React app, some basic vanilla CSS is needed."
   ]
  },
  {
   "cell_type": "markdown",
   "id": "76bcb1b4",
   "metadata": {},
   "source": [
    "<img src=\"https://media.discordapp.net/attachments/884052584762077245/990298458546126898/unknown.png\" >"
   ]
  },
  {
   "cell_type": "markdown",
   "id": "9284d6dd",
   "metadata": {},
   "source": [
    "> # React Initialisation\n",
    "> We've initialised a div with the id of `root` to use as the base of the page.\\\n",
    "> One the other hand, React uses module scripts, so we've used the `type=\"module\"` property in the `script` tag."
   ]
  },
  {
   "cell_type": "markdown",
   "id": "86e8eca7",
   "metadata": {},
   "source": [
    "-----------------"
   ]
  },
  {
   "cell_type": "code",
   "execution_count": null,
   "id": "bdf48063",
   "metadata": {},
   "outputs": [],
   "source": []
  }
 ],
 "metadata": {
  "kernelspec": {
   "display_name": "JavaScript (Node.js)",
   "language": "javascript",
   "name": "javascript"
  },
  "language_info": {
   "file_extension": ".js",
   "mimetype": "application/javascript",
   "name": "javascript",
   "version": "14.17.1"
  }
 },
 "nbformat": 4,
 "nbformat_minor": 5
}
